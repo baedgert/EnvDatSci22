{
  "nbformat": 4,
  "nbformat_minor": 0,
  "metadata": {
    "colab": {
      "provenance": [],
      "authorship_tag": "ABX9TyO9SSvm8zy+8q+3jIqTbKv/",
      "include_colab_link": true
    },
    "kernelspec": {
      "name": "python3",
      "display_name": "Python 3"
    },
    "language_info": {
      "name": "python"
    }
  },
  "cells": [
    {
      "cell_type": "markdown",
      "metadata": {
        "id": "view-in-github",
        "colab_type": "text"
      },
      "source": [
        "<a href=\"https://colab.research.google.com/github/baedgert/EnvDatSci22/blob/master/Data_download_and_pre_process.ipynb\" target=\"_parent\"><img src=\"https://colab.research.google.com/assets/colab-badge.svg\" alt=\"Open In Colab\"/></a>"
      ]
    },
    {
      "cell_type": "markdown",
      "source": [
        "The original code was written by Sylvia Dee and Nick McKay and is....."
      ],
      "metadata": {
        "id": "42nbn_PSkPfa"
      }
    },
    {
      "cell_type": "code",
      "source": [
        "load ('/Users/npm4/GitHub/lipdverse/html/iso2k/1_0_0/iso2k1_0_0.mat')"
      ],
      "metadata": {
        "id": "Ds-rJwR_kyXx"
      },
      "execution_count": null,
      "outputs": []
    }
  ]
}